{
 "cells": [
  {
   "cell_type": "code",
   "id": "initial_id",
   "metadata": {
    "collapsed": true,
    "ExecuteTime": {
     "end_time": "2025-06-23T21:40:30.385964Z",
     "start_time": "2025-06-23T21:40:30.313141Z"
    }
   },
   "source": "import numpy as np",
   "outputs": [],
   "execution_count": 1
  },
  {
   "metadata": {
    "ExecuteTime": {
     "end_time": "2025-06-23T21:41:17.409384Z",
     "start_time": "2025-06-23T21:41:17.407179Z"
    }
   },
   "cell_type": "code",
   "source": "nx, ny = (3, 2)",
   "id": "fa206159590e2cc0",
   "outputs": [],
   "execution_count": 3
  },
  {
   "metadata": {
    "ExecuteTime": {
     "end_time": "2025-06-23T21:41:58.230972Z",
     "start_time": "2025-06-23T21:41:58.227196Z"
    }
   },
   "cell_type": "code",
   "source": [
    "x = np.linspace(0, 1, nx)\n",
    "x"
   ],
   "id": "279c4660667d201d",
   "outputs": [
    {
     "data": {
      "text/plain": [
       "array([0. , 0.5, 1. ])"
      ]
     },
     "execution_count": 5,
     "metadata": {},
     "output_type": "execute_result"
    }
   ],
   "execution_count": 5
  },
  {
   "metadata": {
    "ExecuteTime": {
     "end_time": "2025-06-23T21:42:09.631774Z",
     "start_time": "2025-06-23T21:42:09.628520Z"
    }
   },
   "cell_type": "code",
   "source": [
    "y = np.linspace(0, 1, ny)\n",
    "y"
   ],
   "id": "4d6afd5ad1c59e9a",
   "outputs": [
    {
     "data": {
      "text/plain": [
       "array([0., 1.])"
      ]
     },
     "execution_count": 6,
     "metadata": {},
     "output_type": "execute_result"
    }
   ],
   "execution_count": 6
  },
  {
   "metadata": {
    "ExecuteTime": {
     "end_time": "2025-06-23T21:42:25.534567Z",
     "start_time": "2025-06-23T21:42:25.529142Z"
    }
   },
   "cell_type": "code",
   "source": "xv, yv = np.meshgrid(x, y)",
   "id": "d5f27cce6b3ad1f7",
   "outputs": [],
   "execution_count": 7
  },
  {
   "metadata": {
    "ExecuteTime": {
     "end_time": "2025-06-23T21:42:28.794191Z",
     "start_time": "2025-06-23T21:42:28.789226Z"
    }
   },
   "cell_type": "code",
   "source": "xv",
   "id": "91a302b08f0e5c97",
   "outputs": [
    {
     "data": {
      "text/plain": [
       "array([[0. , 0.5, 1. ],\n",
       "       [0. , 0.5, 1. ]])"
      ]
     },
     "execution_count": 8,
     "metadata": {},
     "output_type": "execute_result"
    }
   ],
   "execution_count": 8
  },
  {
   "metadata": {
    "ExecuteTime": {
     "end_time": "2025-06-23T21:42:35.464287Z",
     "start_time": "2025-06-23T21:42:35.460610Z"
    }
   },
   "cell_type": "code",
   "source": "yv",
   "id": "6b726875b4b062fd",
   "outputs": [
    {
     "data": {
      "text/plain": [
       "array([[0., 0., 0.],\n",
       "       [1., 1., 1.]])"
      ]
     },
     "execution_count": 9,
     "metadata": {},
     "output_type": "execute_result"
    }
   ],
   "execution_count": 9
  },
  {
   "metadata": {
    "ExecuteTime": {
     "end_time": "2025-06-23T21:50:43.147232Z",
     "start_time": "2025-06-23T21:50:43.142537Z"
    }
   },
   "cell_type": "code",
   "source": [
    "radius = 20\n",
    "window = 2 * radius + 1\n",
    "x, y = np.meshgrid(np.arange(-radius, radius + 1), np.arange(-radius, radius + 1))"
   ],
   "id": "c2b0f9951c70e184",
   "outputs": [],
   "execution_count": 10
  },
  {
   "metadata": {
    "ExecuteTime": {
     "end_time": "2025-06-23T21:53:18.044404Z",
     "start_time": "2025-06-23T21:53:18.039495Z"
    }
   },
   "cell_type": "code",
   "source": [
    "offset_cost = np.stack([x, y], axis=-1)\n",
    "offset_cost.shape"
   ],
   "id": "be33462eafb3493d",
   "outputs": [
    {
     "data": {
      "text/plain": [
       "(41, 41, 2)"
      ]
     },
     "execution_count": 13,
     "metadata": {},
     "output_type": "execute_result"
    }
   ],
   "execution_count": 13
  },
  {
   "metadata": {
    "ExecuteTime": {
     "end_time": "2025-06-23T22:08:44.453056Z",
     "start_time": "2025-06-23T22:08:44.450754Z"
    }
   },
   "cell_type": "code",
   "source": "print(offset_cost[1, 2])",
   "id": "2fe2aafd43c392e7",
   "outputs": [
    {
     "name": "stdout",
     "output_type": "stream",
     "text": [
      "[-18 -19]\n"
     ]
    }
   ],
   "execution_count": 30
  },
  {
   "metadata": {},
   "cell_type": "code",
   "outputs": [],
   "execution_count": null,
   "source": "",
   "id": "b27c4f2fc2c40c63"
  }
 ],
 "metadata": {
  "kernelspec": {
   "display_name": "Python 3",
   "language": "python",
   "name": "python3"
  },
  "language_info": {
   "codemirror_mode": {
    "name": "ipython",
    "version": 2
   },
   "file_extension": ".py",
   "mimetype": "text/x-python",
   "name": "python",
   "nbconvert_exporter": "python",
   "pygments_lexer": "ipython2",
   "version": "2.7.6"
  }
 },
 "nbformat": 4,
 "nbformat_minor": 5
}
