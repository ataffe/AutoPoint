{
 "cells": [
  {
   "cell_type": "code",
   "id": "initial_id",
   "metadata": {
    "collapsed": true,
    "ExecuteTime": {
     "end_time": "2025-06-23T21:40:30.385964Z",
     "start_time": "2025-06-23T21:40:30.313141Z"
    }
   },
   "source": "import numpy as np",
   "outputs": [],
   "execution_count": 1
  },
  {
   "metadata": {
    "ExecuteTime": {
     "end_time": "2025-06-23T21:41:17.409384Z",
     "start_time": "2025-06-23T21:41:17.407179Z"
    }
   },
   "cell_type": "code",
   "source": "nx, ny = (3, 2)",
   "id": "fa206159590e2cc0",
   "outputs": [],
   "execution_count": 3
  },
  {
   "metadata": {
    "ExecuteTime": {
     "end_time": "2025-06-23T21:41:58.230972Z",
     "start_time": "2025-06-23T21:41:58.227196Z"
    }
   },
   "cell_type": "code",
   "source": [
    "x = np.linspace(0, 1, nx)\n",
    "x"
   ],
   "id": "279c4660667d201d",
   "outputs": [
    {
     "data": {
      "text/plain": [
       "array([0. , 0.5, 1. ])"
      ]
     },
     "execution_count": 5,
     "metadata": {},
     "output_type": "execute_result"
    }
   ],
   "execution_count": 5
  },
  {
   "metadata": {
    "ExecuteTime": {
     "end_time": "2025-06-23T21:42:09.631774Z",
     "start_time": "2025-06-23T21:42:09.628520Z"
    }
   },
   "cell_type": "code",
   "source": [
    "y = np.linspace(0, 1, ny)\n",
    "y"
   ],
   "id": "4d6afd5ad1c59e9a",
   "outputs": [
    {
     "data": {
      "text/plain": [
       "array([0., 1.])"
      ]
     },
     "execution_count": 6,
     "metadata": {},
     "output_type": "execute_result"
    }
   ],
   "execution_count": 6
  },
  {
   "metadata": {
    "ExecuteTime": {
     "end_time": "2025-06-23T21:42:25.534567Z",
     "start_time": "2025-06-23T21:42:25.529142Z"
    }
   },
   "cell_type": "code",
   "source": "xv, yv = np.meshgrid(x, y)",
   "id": "d5f27cce6b3ad1f7",
   "outputs": [],
   "execution_count": 7
  },
  {
   "metadata": {
    "ExecuteTime": {
     "end_time": "2025-06-23T21:42:28.794191Z",
     "start_time": "2025-06-23T21:42:28.789226Z"
    }
   },
   "cell_type": "code",
   "source": "xv",
   "id": "91a302b08f0e5c97",
   "outputs": [
    {
     "data": {
      "text/plain": [
       "array([[0. , 0.5, 1. ],\n",
       "       [0. , 0.5, 1. ]])"
      ]
     },
     "execution_count": 8,
     "metadata": {},
     "output_type": "execute_result"
    }
   ],
   "execution_count": 8
  },
  {
   "metadata": {
    "ExecuteTime": {
     "end_time": "2025-06-23T21:42:35.464287Z",
     "start_time": "2025-06-23T21:42:35.460610Z"
    }
   },
   "cell_type": "code",
   "source": "yv",
   "id": "6b726875b4b062fd",
   "outputs": [
    {
     "data": {
      "text/plain": [
       "array([[0., 0., 0.],\n",
       "       [1., 1., 1.]])"
      ]
     },
     "execution_count": 9,
     "metadata": {},
     "output_type": "execute_result"
    }
   ],
   "execution_count": 9
  },
  {
   "metadata": {
    "ExecuteTime": {
     "end_time": "2025-06-23T21:50:43.147232Z",
     "start_time": "2025-06-23T21:50:43.142537Z"
    }
   },
   "cell_type": "code",
   "source": [
    "radius = 20\n",
    "window = 2 * radius + 1\n",
    "x, y = np.meshgrid(np.arange(-radius, radius + 1), np.arange(-radius, radius + 1))"
   ],
   "id": "c2b0f9951c70e184",
   "outputs": [],
   "execution_count": 10
  },
  {
   "metadata": {
    "ExecuteTime": {
     "end_time": "2025-06-23T21:53:18.044404Z",
     "start_time": "2025-06-23T21:53:18.039495Z"
    }
   },
   "cell_type": "code",
   "source": [
    "offset_cost = np.stack([x, y], axis=-1)\n",
    "offset_cost.shape"
   ],
   "id": "be33462eafb3493d",
   "outputs": [
    {
     "data": {
      "text/plain": [
       "(41, 41, 2)"
      ]
     },
     "execution_count": 13,
     "metadata": {},
     "output_type": "execute_result"
    }
   ],
   "execution_count": 13
  },
  {
   "metadata": {
    "ExecuteTime": {
     "end_time": "2025-06-23T22:08:44.453056Z",
     "start_time": "2025-06-23T22:08:44.450754Z"
    }
   },
   "cell_type": "code",
   "source": "print(offset_cost[1, 2])",
   "id": "2fe2aafd43c392e7",
   "outputs": [
    {
     "name": "stdout",
     "output_type": "stream",
     "text": [
      "[-18 -19]\n"
     ]
    }
   ],
   "execution_count": 30
  },
  {
   "metadata": {
    "ExecuteTime": {
     "end_time": "2025-06-25T05:16:41.720632Z",
     "start_time": "2025-06-25T05:16:41.718148Z"
    }
   },
   "cell_type": "code",
   "source": [
    "import torch\n",
    "\n",
    "data = torch.randint(1, 10, (6, 10))\n",
    "data"
   ],
   "id": "b27c4f2fc2c40c63",
   "outputs": [
    {
     "data": {
      "text/plain": [
       "tensor([[3, 5, 5, 5, 4, 5, 4, 9, 1, 1],\n",
       "        [2, 6, 3, 1, 6, 5, 8, 8, 8, 4],\n",
       "        [5, 7, 8, 5, 6, 1, 5, 8, 5, 5],\n",
       "        [7, 5, 1, 9, 4, 8, 1, 4, 9, 3],\n",
       "        [2, 4, 7, 8, 7, 6, 8, 1, 8, 3],\n",
       "        [6, 1, 8, 5, 3, 2, 3, 1, 4, 8]])"
      ]
     },
     "execution_count": 23,
     "metadata": {},
     "output_type": "execute_result"
    }
   ],
   "execution_count": 23
  },
  {
   "metadata": {
    "ExecuteTime": {
     "end_time": "2025-06-25T05:17:07.638105Z",
     "start_time": "2025-06-25T05:17:07.635862Z"
    }
   },
   "cell_type": "code",
   "source": [
    "unfolded = data.unfold(0, 2, 1)\n",
    "print(unfolded.shape)\n",
    "print(unfolded)"
   ],
   "id": "90c23d72e3bea31",
   "outputs": [
    {
     "name": "stdout",
     "output_type": "stream",
     "text": [
      "torch.Size([5, 10, 2])\n",
      "tensor([[[3, 2],\n",
      "         [5, 6],\n",
      "         [5, 3],\n",
      "         [5, 1],\n",
      "         [4, 6],\n",
      "         [5, 5],\n",
      "         [4, 8],\n",
      "         [9, 8],\n",
      "         [1, 8],\n",
      "         [1, 4]],\n",
      "\n",
      "        [[2, 5],\n",
      "         [6, 7],\n",
      "         [3, 8],\n",
      "         [1, 5],\n",
      "         [6, 6],\n",
      "         [5, 1],\n",
      "         [8, 5],\n",
      "         [8, 8],\n",
      "         [8, 5],\n",
      "         [4, 5]],\n",
      "\n",
      "        [[5, 7],\n",
      "         [7, 5],\n",
      "         [8, 1],\n",
      "         [5, 9],\n",
      "         [6, 4],\n",
      "         [1, 8],\n",
      "         [5, 1],\n",
      "         [8, 4],\n",
      "         [5, 9],\n",
      "         [5, 3]],\n",
      "\n",
      "        [[7, 2],\n",
      "         [5, 4],\n",
      "         [1, 7],\n",
      "         [9, 8],\n",
      "         [4, 7],\n",
      "         [8, 6],\n",
      "         [1, 8],\n",
      "         [4, 1],\n",
      "         [9, 8],\n",
      "         [3, 3]],\n",
      "\n",
      "        [[2, 6],\n",
      "         [4, 1],\n",
      "         [7, 8],\n",
      "         [8, 5],\n",
      "         [7, 3],\n",
      "         [6, 2],\n",
      "         [8, 3],\n",
      "         [1, 1],\n",
      "         [8, 4],\n",
      "         [3, 8]]])\n"
     ]
    }
   ],
   "execution_count": 25
  },
  {
   "metadata": {},
   "cell_type": "code",
   "outputs": [],
   "execution_count": null,
   "source": "",
   "id": "56c5a859cb7715ad"
  }
 ],
 "metadata": {
  "kernelspec": {
   "display_name": "Python 3",
   "language": "python",
   "name": "python3"
  },
  "language_info": {
   "codemirror_mode": {
    "name": "ipython",
    "version": 2
   },
   "file_extension": ".py",
   "mimetype": "text/x-python",
   "name": "python",
   "nbconvert_exporter": "python",
   "pygments_lexer": "ipython2",
   "version": "2.7.6"
  }
 },
 "nbformat": 4,
 "nbformat_minor": 5
}
